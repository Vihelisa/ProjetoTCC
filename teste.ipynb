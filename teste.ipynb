{
 "cells": [
  {
   "cell_type": "code",
   "execution_count": 18,
   "id": "49ca4723",
   "metadata": {},
   "outputs": [],
   "source": [
    "import cx_Oracle\n",
    "import os\n",
    "import json\n",
    "import pandas as pd"
   ]
  },
  {
   "cell_type": "code",
   "execution_count": 19,
   "id": "1dae20a6",
   "metadata": {},
   "outputs": [],
   "source": [
    "user_bd = \"admin\"\n",
    "password_bd = \"admin\"\n",
    "tns_bd = \"DKR_NAC_213\""
   ]
  },
  {
   "cell_type": "code",
   "execution_count": 20,
   "id": "917ff230",
   "metadata": {},
   "outputs": [],
   "source": [
    "def database_conection(user_bd='admin', password_bd='admin', tns_bd='DKR_NAC_213'):\n",
    "    try:\n",
    "        conn = cx_Oracle.connect(user=str(user_bd), password=str(password_bd), dsn=str(tns_bd))\n",
    "        cursor = conn.cursor()\n",
    "        return conn, cursor\n",
    "    except cx_Oracle.DatabaseError as e:\n",
    "        return None, None\n"
   ]
  },
  {
   "cell_type": "code",
   "execution_count": 21,
   "id": "e377c6fd",
   "metadata": {},
   "outputs": [],
   "source": [
    "def get_data(query, cursor):\n",
    "    '''\n",
    "        Esta função faz requisições no bano de dados, criando dataframe com as informações obtidas\n",
    "    '''\n",
    "    try:\n",
    "        cursor.execute(query)\n",
    "        results = cursor.fetchall()\n",
    "        columns = [desc[0] for desc in cursor.description]\n",
    "        \n",
    "        df = pd.DataFrame(results, columns=columns)\n",
    "        return df\n",
    "\n",
    "    except cx_Oracle.DatabaseError as e:\n",
    "        return None"
   ]
  },
  {
   "cell_type": "code",
   "execution_count": 22,
   "id": "ce031896",
   "metadata": {},
   "outputs": [],
   "source": [
    "def make_db_highq_login(cursor):\n",
    "\n",
    "    #script_dir = os.path.dirname(__file__)\n",
    "    file_path = os.path.join('config/query.json')\n",
    "\n",
    "    with open(file_path) as file:\n",
    "        querys = json.load(file)\n",
    "\n",
    "    \n",
    "    df_login_user_data = get_data(querys['loginUserData'], cursor)\n",
    "    df_user_bd = get_data(querys['userBD'], cursor)\n",
    "    return df_login_user_data, df_user_bd"
   ]
  },
  {
   "cell_type": "code",
   "execution_count": 23,
   "id": "7033e992",
   "metadata": {},
   "outputs": [],
   "source": [
    "def make_db_highq_users_bd(cursor):\n",
    "\n",
    "    #script_dir = os.path.dirname(__file__)\n",
    "    file_path = os.path.join('config/query.json')\n",
    "\n",
    "    with open(file_path) as file:\n",
    "        querys = json.load(file)\n",
    "\n",
    "    \n",
    "    df_user_bd = get_data(querys['userBD'], cursor)\n",
    "    return df_user_bd"
   ]
  },
  {
   "cell_type": "code",
   "execution_count": 24,
   "id": "bfc1fe0c",
   "metadata": {},
   "outputs": [],
   "source": [
    "def make_db_register(cursor):\n",
    "\n",
    "    #script_dir = os.path.dirname(__file__)\n",
    "    file_path = os.path.join('config/query.json')\n",
    "\n",
    "    with open(file_path) as file:\n",
    "        querys = json.load(file)\n",
    "    \n",
    "    df_estados = get_data(querys['estadosBR'], cursor)\n",
    "    df_class_process = get_data(querys['classProcess'], cursor)\n",
    "    df_path_process = get_data(querys['pathProcess'], cursor)\n",
    "    df_datajud_endpoints = get_data(querys['datajudEndpoints'], cursor)\n",
    "    return df_estados, df_class_process, df_path_process, df_datajud_endpoints"
   ]
  },
  {
   "cell_type": "code",
   "execution_count": 25,
   "id": "7807c827",
   "metadata": {},
   "outputs": [],
   "source": [
    "def make_db_process(cursor):\n",
    "\n",
    "    #script_dir = os.path.dirname(__file__)\n",
    "    file_path = os.path.join('config/query.json')\n",
    "\n",
    "    with open(file_path) as file:\n",
    "        querys = json.load(file)\n",
    "    \n",
    "    df_process = get_data(querys['processJurid'], cursor)\n",
    "    return df_process"
   ]
  },
  {
   "cell_type": "code",
   "execution_count": 26,
   "id": "aa61087c",
   "metadata": {},
   "outputs": [],
   "source": [
    "conn, cursor = database_conection(user_bd, password_bd, tns_bd)\n",
    "df_login_user_data, df_user_bd = make_db_highq_login(cursor)\n",
    "df_estados, df_class_process, df_path_process, df_datajud_endpoints= make_db_register(cursor)\n",
    "df_process = make_db_process(cursor)\n"
   ]
  },
  {
   "cell_type": "code",
   "execution_count": 34,
   "id": "cbeb1f17",
   "metadata": {},
   "outputs": [],
   "source": [
    "dict_hits = {\"numeroProcesso\":\"00008323520184013202\",\"classe\":{\"codigo\":436,\"nome\":\"Procedimento do Juizado Especial Cível\"},\"sistema\":{\"codigo\":1,\"nome\":\"Pje\"},\"formato\":{\"codigo\":1,\"nome\":\"Eletrônico\"},\"tribunal\":\"TRF1\",\"dataHoraUltimaAtualizacao\":\"2025-02-11T18:10:28.605Z\",\"grau\":\"JE\",\"@timestamp\":\"2025-06-15T20:00:50.240647773Z\",\"dataAjuizamento\":\"2018-10-29T00:00:00.000Z\",\"movimentos\":[{\"complementosTabelados\":[{\"codigo\":2,\"valor\":1,\"nome\":\"competência exclusiva\",\"descricao\":\"tipo_de_distribuicao_redistribuicao\"}],\"codigo\":26,\"nome\":\"Distribuição\",\"dataHora\":\"2018-10-30T14:06:24.000Z\"},{\"complementosTabelados\":[{\"codigo\":16,\"valor\":23,\"nome\":\"instrução e julgamento\",\"descricao\":\"tipo_de_audiencia\"},{\"codigo\":15,\"valor\":9,\"nome\":\"designada\",\"descricao\":\"situacao_da_audiencia\"}],\"codigo\":970,\"nome\":\"Audiência\",\"dataHora\":\"2018-11-06T11:54:44.000Z\"},{\"complementosTabelados\":[{\"codigo\":4,\"valor\":80,\"nome\":\"Outros documentos\",\"descricao\":\"tipo_de_documento\"}],\"codigo\":581,\"nome\":\"Documento\",\"dataHora\":\"2019-02-15T15:31:24.000Z\"},{\"complementosTabelados\":[{\"codigo\":15,\"valor\":14,\"nome\":\"não-realizada\",\"descricao\":\"situacao_da_audiencia\"},{\"codigo\":16,\"valor\":22,\"nome\":\"instrução\",\"descricao\":\"tipo_de_audiencia\"}],\"codigo\":970,\"nome\":\"Audiência\",\"dataHora\":\"2019-04-01T12:05:35.000Z\"},{\"complementosTabelados\":[{\"codigo\":4,\"valor\":80,\"nome\":\"Outros documentos\",\"descricao\":\"tipo_de_documento\"}],\"codigo\":581,\"nome\":\"Documento\",\"dataHora\":\"2019-04-11T15:33:18.000Z\"},{\"complementosTabelados\":[{\"codigo\":3,\"valor\":6,\"nome\":\"para decisão\",\"descricao\":\"tipo_de_conclusao\"}],\"codigo\":51,\"nome\":\"Conclusão\",\"dataHora\":\"2019-04-11T15:33:40.000Z\"},{\"complementosTabelados\":[{\"codigo\":18,\"valor\":40,\"nome\":\"outros motivos\",\"descricao\":\"motivo_da_remessa\"}],\"codigo\":123,\"nome\":\"Remessa\",\"dataHora\":\"2019-06-19T09:52:59.000Z\"},{\"complementosTabelados\":[{\"codigo\":18,\"valor\":40,\"nome\":\"outros motivos\",\"descricao\":\"motivo_da_remessa\"}],\"codigo\":982,\"nome\":\"Remessa\",\"dataHora\":\"2019-06-24T16:43:41.000Z\"},{\"complementosTabelados\":[{\"codigo\":15,\"valor\":9,\"nome\":\"designada\",\"descricao\":\"situacao_da_audiencia\"},{\"codigo\":16,\"valor\":23,\"nome\":\"instrução e julgamento\",\"descricao\":\"tipo_de_audiencia\"}],\"codigo\":970,\"nome\":\"Audiência\",\"dataHora\":\"2019-07-04T15:30:48.000Z\"},{\"complementosTabelados\":[{\"codigo\":15,\"valor\":13,\"nome\":\"realizada\",\"descricao\":\"situacao_da_audiencia\"},{\"codigo\":16,\"valor\":23,\"nome\":\"instrução e julgamento\",\"descricao\":\"tipo_de_audiencia\"}],\"codigo\":970,\"nome\":\"Audiência\",\"dataHora\":\"2019-12-16T17:18:42.000Z\"},{\"complementosTabelados\":[{\"codigo\":18,\"valor\":90,\"nome\":\"declaração de competência para Ácórdão vinculado a Tribunal diferente\",\"descricao\":\"motivo_da_remessa\"}],\"codigo\":123,\"nome\":\"Remessa\",\"dataHora\":\"2020-03-26T15:02:56.000Z\"},{\"codigo\":132,\"nome\":\"Recebimento\",\"dataHora\":\"2018-10-31T13:47:44.000Z\"},{\"codigo\":132,\"nome\":\"Recebimento\",\"dataHora\":\"2018-11-06T10:37:20.000Z\"},{\"codigo\":12263,\"nome\":\"Intimação\",\"dataHora\":\"2018-11-13T15:17:00.000Z\"},{\"codigo\":92,\"nome\":\"Publicação\",\"dataHora\":\"2018-11-16T10:36:00.000Z\"},{\"codigo\":493,\"nome\":\"Entrega em carga/vista\",\"dataHora\":\"2018-12-04T12:36:23.000Z\"},{\"codigo\":132,\"nome\":\"Recebimento\",\"dataHora\":\"2019-02-12T14:44:08.000Z\"},{\"codigo\":132,\"nome\":\"Recebimento\",\"dataHora\":\"2019-02-12T14:44:49.000Z\"},{\"codigo\":11010,\"nome\":\"Mero expediente\",\"dataHora\":\"2019-05-10T13:44:00.000Z\"},{\"codigo\":132,\"nome\":\"Recebimento\",\"dataHora\":\"2019-06-25T09:48:12.000Z\"},{\"codigo\":132,\"nome\":\"Recebimento\",\"dataHora\":\"2019-07-03T17:00:00.000Z\"},{\"codigo\":12263,\"nome\":\"Intimação\",\"dataHora\":\"2019-07-04T15:35:22.000Z\"},{\"codigo\":12263,\"nome\":\"Intimação\",\"dataHora\":\"2019-07-19T16:41:31.000Z\"},{\"codigo\":92,\"nome\":\"Publicação\",\"dataHora\":\"2019-07-23T17:53:57.000Z\"},{\"codigo\":493,\"nome\":\"Entrega em carga/vista\",\"dataHora\":\"2019-07-26T14:03:31.000Z\"},{\"codigo\":132,\"nome\":\"Recebimento\",\"dataHora\":\"2019-10-03T11:24:19.000Z\"},{\"codigo\":11010,\"nome\":\"Mero expediente\",\"dataHora\":\"2019-12-16T18:03:00.000Z\"},{\"codigo\":11010,\"nome\":\"Mero expediente\",\"dataHora\":\"2020-03-27T18:00:02.000Z\"},{\"codigo\":132,\"nome\":\"Recebimento\",\"dataHora\":\"2020-06-01T16:22:00.000Z\"},{\"codigo\":11383,\"nome\":\"Ato ordinatório\",\"dataHora\":\"2020-08-04T14:48:12.000Z\"},{\"codigo\":14732,\"nome\":\"Conversão de Autos Físicos em Eletrônicos\",\"dataHora\":\"2020-08-05T01:15:18.000Z\"},{\"complementosTabelados\":[{\"codigo\":4,\"valor\":107,\"nome\":\"Certidão\",\"descricao\":\"tipo_de_documento\"}],\"codigo\":581,\"nome\":\"Documento\",\"dataHora\":\"2020-09-10T18:34:03.000Z\"},{\"complementosTabelados\":[{\"codigo\":4,\"valor\":107,\"nome\":\"Certidão\",\"descricao\":\"tipo_de_documento\"}],\"codigo\":581,\"nome\":\"Documento\",\"dataHora\":\"2020-09-10T18:36:18.000Z\"},{\"complementosTabelados\":[{\"codigo\":4,\"valor\":80,\"nome\":\"Outros documentos\",\"descricao\":\"tipo_de_documento\"}],\"codigo\":60,\"nome\":\"Expedição de documento\",\"dataHora\":\"2020-09-10T18:37:04.000Z\"},{\"complementosTabelados\":[{\"codigo\":3,\"valor\":36,\"nome\":\"para julgamento\",\"descricao\":\"tipo_de_conclusao\"}],\"codigo\":51,\"nome\":\"Conclusão\",\"dataHora\":\"2020-09-24T18:03:20.000Z\"},{\"codigo\":11376,\"nome\":\"Ausência do autor à audiência\",\"dataHora\":\"2020-10-02T11:14:19.000Z\"},{\"complementosTabelados\":[{\"codigo\":4,\"valor\":80,\"nome\":\"Outros documentos\",\"descricao\":\"tipo_de_documento\"}],\"codigo\":60,\"nome\":\"Expedição de documento\",\"dataHora\":\"2020-10-05T20:03:40.000Z\"},{\"codigo\":1051,\"nome\":\"Decurso de Prazo\",\"dataHora\":\"2020-10-28T09:08:13.000Z\"},{\"codigo\":1051,\"nome\":\"Decurso de Prazo\",\"dataHora\":\"2020-10-31T09:52:58.000Z\"},{\"codigo\":1051,\"nome\":\"Decurso de Prazo\",\"dataHora\":\"2020-11-06T08:18:00.000Z\"},{\"complementosTabelados\":[{\"codigo\":4,\"valor\":80,\"nome\":\"Outros documentos\",\"descricao\":\"tipo_de_documento\"}],\"codigo\":581,\"nome\":\"Documento\",\"dataHora\":\"2020-11-12T20:24:27.000Z\"},{\"codigo\":246,\"nome\":\"Definitivo\",\"dataHora\":\"2020-11-12T20:27:30.000Z\"},{\"codigo\":11383,\"nome\":\"Ato ordinatório\",\"dataHora\":\"2024-07-03T09:05:34.000Z\"}],\"id\":\"TRF1_JE_00008323520184013202\",\"nivelSigilo\":0,\"orgaoJulgador\":{\"codigoMunicipioIBGE\":5128,\"codigo\":16403,\"nome\":\"Tefé\"},\"assuntos\":[{\"codigo\":6177,\"nome\":\"Concessão\"}]}"
   ]
  },
  {
   "cell_type": "code",
   "execution_count": null,
   "id": "938be626",
   "metadata": {},
   "outputs": [],
   "source": [
    "base = {}\n",
    "base[\"Número Processo\"] = dict_hits.get(\"numeroProcesso\")\n",
    "base[\"Tribunal\"] = dict_hits.get(\"tribunal\")\n",
    "base[\"Classe Processo\"] = dict_hits.get(\"classe\", {}).get(\"nome\")\n",
    "movimentos = dict_hits.get(\"movimentos\", [])\n"
   ]
  },
  {
   "cell_type": "code",
   "execution_count": 64,
   "id": "14ed95af",
   "metadata": {},
   "outputs": [],
   "source": [
    "linhas = []\n",
    "for mov in movimentos:\n",
    "    base[\"Caminho Processual Atualizado\"] = mov.get(\"nome\")\n",
    "    base['DataHora'] = mov.get(\"dataHora\")\n",
    "    try:\n",
    "        complementos = mov.get(\"complementosTabelados\", [])\n",
    "        for comp in complementos:\n",
    "            base[\"Complemento Nome\"] = comp.get(\"nome\")\n",
    "            base[\"Complemento Descrição\"] = comp.get(\"descricao\")\n",
    "            linhas.append(base.copy())  # <- Cópia aqui\n",
    "    except:\n",
    "        base[\"Complemento Nome\"] = None\n",
    "        base[\"Complemento Descrição\"] = None\n",
    "        linhas.append(base.copy())  # <- E aqui também\n",
    "\n",
    "\n",
    "df_movimentos = pd.DataFrame(linhas)    "
   ]
  },
  {
   "cell_type": "code",
   "execution_count": 65,
   "id": "364e6f02",
   "metadata": {},
   "outputs": [
    {
     "data": {
      "application/vnd.microsoft.datawrangler.viewer.v0+json": {
       "columns": [
        {
         "name": "index",
         "rawType": "int64",
         "type": "integer"
        },
        {
         "name": "Número Processo",
         "rawType": "object",
         "type": "string"
        },
        {
         "name": "Tribunal",
         "rawType": "object",
         "type": "string"
        },
        {
         "name": "Classe Processo",
         "rawType": "object",
         "type": "string"
        },
        {
         "name": "Caminho Processual Atualizado",
         "rawType": "object",
         "type": "string"
        },
        {
         "name": "DataHora",
         "rawType": "object",
         "type": "string"
        },
        {
         "name": "Complemento Nome",
         "rawType": "object",
         "type": "string"
        },
        {
         "name": "Complemento Descrição",
         "rawType": "object",
         "type": "string"
        }
       ],
       "ref": "897954f4-1c18-478b-85c2-fc0403b86c24",
       "rows": [
        [
         "0",
         "00008323520184013202",
         "TRF1",
         "Procedimento do Juizado Especial Cível",
         "Distribuição",
         "2018-10-30T14:06:24.000Z",
         "competência exclusiva",
         "tipo_de_distribuicao_redistribuicao"
        ],
        [
         "1",
         "00008323520184013202",
         "TRF1",
         "Procedimento do Juizado Especial Cível",
         "Audiência",
         "2018-11-06T11:54:44.000Z",
         "instrução e julgamento",
         "tipo_de_audiencia"
        ],
        [
         "2",
         "00008323520184013202",
         "TRF1",
         "Procedimento do Juizado Especial Cível",
         "Audiência",
         "2018-11-06T11:54:44.000Z",
         "designada",
         "situacao_da_audiencia"
        ],
        [
         "3",
         "00008323520184013202",
         "TRF1",
         "Procedimento do Juizado Especial Cível",
         "Documento",
         "2019-02-15T15:31:24.000Z",
         "Outros documentos",
         "tipo_de_documento"
        ],
        [
         "4",
         "00008323520184013202",
         "TRF1",
         "Procedimento do Juizado Especial Cível",
         "Audiência",
         "2019-04-01T12:05:35.000Z",
         "não-realizada",
         "situacao_da_audiencia"
        ],
        [
         "5",
         "00008323520184013202",
         "TRF1",
         "Procedimento do Juizado Especial Cível",
         "Audiência",
         "2019-04-01T12:05:35.000Z",
         "instrução",
         "tipo_de_audiencia"
        ],
        [
         "6",
         "00008323520184013202",
         "TRF1",
         "Procedimento do Juizado Especial Cível",
         "Documento",
         "2019-04-11T15:33:18.000Z",
         "Outros documentos",
         "tipo_de_documento"
        ],
        [
         "7",
         "00008323520184013202",
         "TRF1",
         "Procedimento do Juizado Especial Cível",
         "Conclusão",
         "2019-04-11T15:33:40.000Z",
         "para decisão",
         "tipo_de_conclusao"
        ],
        [
         "8",
         "00008323520184013202",
         "TRF1",
         "Procedimento do Juizado Especial Cível",
         "Remessa",
         "2019-06-19T09:52:59.000Z",
         "outros motivos",
         "motivo_da_remessa"
        ],
        [
         "9",
         "00008323520184013202",
         "TRF1",
         "Procedimento do Juizado Especial Cível",
         "Remessa",
         "2019-06-24T16:43:41.000Z",
         "outros motivos",
         "motivo_da_remessa"
        ],
        [
         "10",
         "00008323520184013202",
         "TRF1",
         "Procedimento do Juizado Especial Cível",
         "Audiência",
         "2019-07-04T15:30:48.000Z",
         "designada",
         "situacao_da_audiencia"
        ],
        [
         "11",
         "00008323520184013202",
         "TRF1",
         "Procedimento do Juizado Especial Cível",
         "Audiência",
         "2019-07-04T15:30:48.000Z",
         "instrução e julgamento",
         "tipo_de_audiencia"
        ],
        [
         "12",
         "00008323520184013202",
         "TRF1",
         "Procedimento do Juizado Especial Cível",
         "Audiência",
         "2019-12-16T17:18:42.000Z",
         "realizada",
         "situacao_da_audiencia"
        ],
        [
         "13",
         "00008323520184013202",
         "TRF1",
         "Procedimento do Juizado Especial Cível",
         "Audiência",
         "2019-12-16T17:18:42.000Z",
         "instrução e julgamento",
         "tipo_de_audiencia"
        ],
        [
         "14",
         "00008323520184013202",
         "TRF1",
         "Procedimento do Juizado Especial Cível",
         "Remessa",
         "2020-03-26T15:02:56.000Z",
         "declaração de competência para Ácórdão vinculado a Tribunal diferente",
         "motivo_da_remessa"
        ],
        [
         "15",
         "00008323520184013202",
         "TRF1",
         "Procedimento do Juizado Especial Cível",
         "Documento",
         "2020-09-10T18:34:03.000Z",
         "Certidão",
         "tipo_de_documento"
        ],
        [
         "16",
         "00008323520184013202",
         "TRF1",
         "Procedimento do Juizado Especial Cível",
         "Documento",
         "2020-09-10T18:36:18.000Z",
         "Certidão",
         "tipo_de_documento"
        ],
        [
         "17",
         "00008323520184013202",
         "TRF1",
         "Procedimento do Juizado Especial Cível",
         "Expedição de documento",
         "2020-09-10T18:37:04.000Z",
         "Outros documentos",
         "tipo_de_documento"
        ],
        [
         "18",
         "00008323520184013202",
         "TRF1",
         "Procedimento do Juizado Especial Cível",
         "Conclusão",
         "2020-09-24T18:03:20.000Z",
         "para julgamento",
         "tipo_de_conclusao"
        ],
        [
         "19",
         "00008323520184013202",
         "TRF1",
         "Procedimento do Juizado Especial Cível",
         "Expedição de documento",
         "2020-10-05T20:03:40.000Z",
         "Outros documentos",
         "tipo_de_documento"
        ]
       ],
       "shape": {
        "columns": 7,
        "rows": 20
       }
      },
      "text/html": [
       "<div>\n",
       "<style scoped>\n",
       "    .dataframe tbody tr th:only-of-type {\n",
       "        vertical-align: middle;\n",
       "    }\n",
       "\n",
       "    .dataframe tbody tr th {\n",
       "        vertical-align: top;\n",
       "    }\n",
       "\n",
       "    .dataframe thead th {\n",
       "        text-align: right;\n",
       "    }\n",
       "</style>\n",
       "<table border=\"1\" class=\"dataframe\">\n",
       "  <thead>\n",
       "    <tr style=\"text-align: right;\">\n",
       "      <th></th>\n",
       "      <th>Número Processo</th>\n",
       "      <th>Tribunal</th>\n",
       "      <th>Classe Processo</th>\n",
       "      <th>Caminho Processual Atualizado</th>\n",
       "      <th>DataHora</th>\n",
       "      <th>Complemento Nome</th>\n",
       "      <th>Complemento Descrição</th>\n",
       "    </tr>\n",
       "  </thead>\n",
       "  <tbody>\n",
       "    <tr>\n",
       "      <th>0</th>\n",
       "      <td>00008323520184013202</td>\n",
       "      <td>TRF1</td>\n",
       "      <td>Procedimento do Juizado Especial Cível</td>\n",
       "      <td>Distribuição</td>\n",
       "      <td>2018-10-30T14:06:24.000Z</td>\n",
       "      <td>competência exclusiva</td>\n",
       "      <td>tipo_de_distribuicao_redistribuicao</td>\n",
       "    </tr>\n",
       "    <tr>\n",
       "      <th>1</th>\n",
       "      <td>00008323520184013202</td>\n",
       "      <td>TRF1</td>\n",
       "      <td>Procedimento do Juizado Especial Cível</td>\n",
       "      <td>Audiência</td>\n",
       "      <td>2018-11-06T11:54:44.000Z</td>\n",
       "      <td>instrução e julgamento</td>\n",
       "      <td>tipo_de_audiencia</td>\n",
       "    </tr>\n",
       "    <tr>\n",
       "      <th>2</th>\n",
       "      <td>00008323520184013202</td>\n",
       "      <td>TRF1</td>\n",
       "      <td>Procedimento do Juizado Especial Cível</td>\n",
       "      <td>Audiência</td>\n",
       "      <td>2018-11-06T11:54:44.000Z</td>\n",
       "      <td>designada</td>\n",
       "      <td>situacao_da_audiencia</td>\n",
       "    </tr>\n",
       "    <tr>\n",
       "      <th>3</th>\n",
       "      <td>00008323520184013202</td>\n",
       "      <td>TRF1</td>\n",
       "      <td>Procedimento do Juizado Especial Cível</td>\n",
       "      <td>Documento</td>\n",
       "      <td>2019-02-15T15:31:24.000Z</td>\n",
       "      <td>Outros documentos</td>\n",
       "      <td>tipo_de_documento</td>\n",
       "    </tr>\n",
       "    <tr>\n",
       "      <th>4</th>\n",
       "      <td>00008323520184013202</td>\n",
       "      <td>TRF1</td>\n",
       "      <td>Procedimento do Juizado Especial Cível</td>\n",
       "      <td>Audiência</td>\n",
       "      <td>2019-04-01T12:05:35.000Z</td>\n",
       "      <td>não-realizada</td>\n",
       "      <td>situacao_da_audiencia</td>\n",
       "    </tr>\n",
       "    <tr>\n",
       "      <th>5</th>\n",
       "      <td>00008323520184013202</td>\n",
       "      <td>TRF1</td>\n",
       "      <td>Procedimento do Juizado Especial Cível</td>\n",
       "      <td>Audiência</td>\n",
       "      <td>2019-04-01T12:05:35.000Z</td>\n",
       "      <td>instrução</td>\n",
       "      <td>tipo_de_audiencia</td>\n",
       "    </tr>\n",
       "    <tr>\n",
       "      <th>6</th>\n",
       "      <td>00008323520184013202</td>\n",
       "      <td>TRF1</td>\n",
       "      <td>Procedimento do Juizado Especial Cível</td>\n",
       "      <td>Documento</td>\n",
       "      <td>2019-04-11T15:33:18.000Z</td>\n",
       "      <td>Outros documentos</td>\n",
       "      <td>tipo_de_documento</td>\n",
       "    </tr>\n",
       "    <tr>\n",
       "      <th>7</th>\n",
       "      <td>00008323520184013202</td>\n",
       "      <td>TRF1</td>\n",
       "      <td>Procedimento do Juizado Especial Cível</td>\n",
       "      <td>Conclusão</td>\n",
       "      <td>2019-04-11T15:33:40.000Z</td>\n",
       "      <td>para decisão</td>\n",
       "      <td>tipo_de_conclusao</td>\n",
       "    </tr>\n",
       "    <tr>\n",
       "      <th>8</th>\n",
       "      <td>00008323520184013202</td>\n",
       "      <td>TRF1</td>\n",
       "      <td>Procedimento do Juizado Especial Cível</td>\n",
       "      <td>Remessa</td>\n",
       "      <td>2019-06-19T09:52:59.000Z</td>\n",
       "      <td>outros motivos</td>\n",
       "      <td>motivo_da_remessa</td>\n",
       "    </tr>\n",
       "    <tr>\n",
       "      <th>9</th>\n",
       "      <td>00008323520184013202</td>\n",
       "      <td>TRF1</td>\n",
       "      <td>Procedimento do Juizado Especial Cível</td>\n",
       "      <td>Remessa</td>\n",
       "      <td>2019-06-24T16:43:41.000Z</td>\n",
       "      <td>outros motivos</td>\n",
       "      <td>motivo_da_remessa</td>\n",
       "    </tr>\n",
       "    <tr>\n",
       "      <th>10</th>\n",
       "      <td>00008323520184013202</td>\n",
       "      <td>TRF1</td>\n",
       "      <td>Procedimento do Juizado Especial Cível</td>\n",
       "      <td>Audiência</td>\n",
       "      <td>2019-07-04T15:30:48.000Z</td>\n",
       "      <td>designada</td>\n",
       "      <td>situacao_da_audiencia</td>\n",
       "    </tr>\n",
       "    <tr>\n",
       "      <th>11</th>\n",
       "      <td>00008323520184013202</td>\n",
       "      <td>TRF1</td>\n",
       "      <td>Procedimento do Juizado Especial Cível</td>\n",
       "      <td>Audiência</td>\n",
       "      <td>2019-07-04T15:30:48.000Z</td>\n",
       "      <td>instrução e julgamento</td>\n",
       "      <td>tipo_de_audiencia</td>\n",
       "    </tr>\n",
       "    <tr>\n",
       "      <th>12</th>\n",
       "      <td>00008323520184013202</td>\n",
       "      <td>TRF1</td>\n",
       "      <td>Procedimento do Juizado Especial Cível</td>\n",
       "      <td>Audiência</td>\n",
       "      <td>2019-12-16T17:18:42.000Z</td>\n",
       "      <td>realizada</td>\n",
       "      <td>situacao_da_audiencia</td>\n",
       "    </tr>\n",
       "    <tr>\n",
       "      <th>13</th>\n",
       "      <td>00008323520184013202</td>\n",
       "      <td>TRF1</td>\n",
       "      <td>Procedimento do Juizado Especial Cível</td>\n",
       "      <td>Audiência</td>\n",
       "      <td>2019-12-16T17:18:42.000Z</td>\n",
       "      <td>instrução e julgamento</td>\n",
       "      <td>tipo_de_audiencia</td>\n",
       "    </tr>\n",
       "    <tr>\n",
       "      <th>14</th>\n",
       "      <td>00008323520184013202</td>\n",
       "      <td>TRF1</td>\n",
       "      <td>Procedimento do Juizado Especial Cível</td>\n",
       "      <td>Remessa</td>\n",
       "      <td>2020-03-26T15:02:56.000Z</td>\n",
       "      <td>declaração de competência para Ácórdão vincula...</td>\n",
       "      <td>motivo_da_remessa</td>\n",
       "    </tr>\n",
       "    <tr>\n",
       "      <th>15</th>\n",
       "      <td>00008323520184013202</td>\n",
       "      <td>TRF1</td>\n",
       "      <td>Procedimento do Juizado Especial Cível</td>\n",
       "      <td>Documento</td>\n",
       "      <td>2020-09-10T18:34:03.000Z</td>\n",
       "      <td>Certidão</td>\n",
       "      <td>tipo_de_documento</td>\n",
       "    </tr>\n",
       "    <tr>\n",
       "      <th>16</th>\n",
       "      <td>00008323520184013202</td>\n",
       "      <td>TRF1</td>\n",
       "      <td>Procedimento do Juizado Especial Cível</td>\n",
       "      <td>Documento</td>\n",
       "      <td>2020-09-10T18:36:18.000Z</td>\n",
       "      <td>Certidão</td>\n",
       "      <td>tipo_de_documento</td>\n",
       "    </tr>\n",
       "    <tr>\n",
       "      <th>17</th>\n",
       "      <td>00008323520184013202</td>\n",
       "      <td>TRF1</td>\n",
       "      <td>Procedimento do Juizado Especial Cível</td>\n",
       "      <td>Expedição de documento</td>\n",
       "      <td>2020-09-10T18:37:04.000Z</td>\n",
       "      <td>Outros documentos</td>\n",
       "      <td>tipo_de_documento</td>\n",
       "    </tr>\n",
       "    <tr>\n",
       "      <th>18</th>\n",
       "      <td>00008323520184013202</td>\n",
       "      <td>TRF1</td>\n",
       "      <td>Procedimento do Juizado Especial Cível</td>\n",
       "      <td>Conclusão</td>\n",
       "      <td>2020-09-24T18:03:20.000Z</td>\n",
       "      <td>para julgamento</td>\n",
       "      <td>tipo_de_conclusao</td>\n",
       "    </tr>\n",
       "    <tr>\n",
       "      <th>19</th>\n",
       "      <td>00008323520184013202</td>\n",
       "      <td>TRF1</td>\n",
       "      <td>Procedimento do Juizado Especial Cível</td>\n",
       "      <td>Expedição de documento</td>\n",
       "      <td>2020-10-05T20:03:40.000Z</td>\n",
       "      <td>Outros documentos</td>\n",
       "      <td>tipo_de_documento</td>\n",
       "    </tr>\n",
       "  </tbody>\n",
       "</table>\n",
       "</div>"
      ],
      "text/plain": [
       "         Número Processo Tribunal                         Classe Processo  \\\n",
       "0   00008323520184013202     TRF1  Procedimento do Juizado Especial Cível   \n",
       "1   00008323520184013202     TRF1  Procedimento do Juizado Especial Cível   \n",
       "2   00008323520184013202     TRF1  Procedimento do Juizado Especial Cível   \n",
       "3   00008323520184013202     TRF1  Procedimento do Juizado Especial Cível   \n",
       "4   00008323520184013202     TRF1  Procedimento do Juizado Especial Cível   \n",
       "5   00008323520184013202     TRF1  Procedimento do Juizado Especial Cível   \n",
       "6   00008323520184013202     TRF1  Procedimento do Juizado Especial Cível   \n",
       "7   00008323520184013202     TRF1  Procedimento do Juizado Especial Cível   \n",
       "8   00008323520184013202     TRF1  Procedimento do Juizado Especial Cível   \n",
       "9   00008323520184013202     TRF1  Procedimento do Juizado Especial Cível   \n",
       "10  00008323520184013202     TRF1  Procedimento do Juizado Especial Cível   \n",
       "11  00008323520184013202     TRF1  Procedimento do Juizado Especial Cível   \n",
       "12  00008323520184013202     TRF1  Procedimento do Juizado Especial Cível   \n",
       "13  00008323520184013202     TRF1  Procedimento do Juizado Especial Cível   \n",
       "14  00008323520184013202     TRF1  Procedimento do Juizado Especial Cível   \n",
       "15  00008323520184013202     TRF1  Procedimento do Juizado Especial Cível   \n",
       "16  00008323520184013202     TRF1  Procedimento do Juizado Especial Cível   \n",
       "17  00008323520184013202     TRF1  Procedimento do Juizado Especial Cível   \n",
       "18  00008323520184013202     TRF1  Procedimento do Juizado Especial Cível   \n",
       "19  00008323520184013202     TRF1  Procedimento do Juizado Especial Cível   \n",
       "\n",
       "   Caminho Processual Atualizado                  DataHora  \\\n",
       "0                   Distribuição  2018-10-30T14:06:24.000Z   \n",
       "1                      Audiência  2018-11-06T11:54:44.000Z   \n",
       "2                      Audiência  2018-11-06T11:54:44.000Z   \n",
       "3                      Documento  2019-02-15T15:31:24.000Z   \n",
       "4                      Audiência  2019-04-01T12:05:35.000Z   \n",
       "5                      Audiência  2019-04-01T12:05:35.000Z   \n",
       "6                      Documento  2019-04-11T15:33:18.000Z   \n",
       "7                      Conclusão  2019-04-11T15:33:40.000Z   \n",
       "8                        Remessa  2019-06-19T09:52:59.000Z   \n",
       "9                        Remessa  2019-06-24T16:43:41.000Z   \n",
       "10                     Audiência  2019-07-04T15:30:48.000Z   \n",
       "11                     Audiência  2019-07-04T15:30:48.000Z   \n",
       "12                     Audiência  2019-12-16T17:18:42.000Z   \n",
       "13                     Audiência  2019-12-16T17:18:42.000Z   \n",
       "14                       Remessa  2020-03-26T15:02:56.000Z   \n",
       "15                     Documento  2020-09-10T18:34:03.000Z   \n",
       "16                     Documento  2020-09-10T18:36:18.000Z   \n",
       "17        Expedição de documento  2020-09-10T18:37:04.000Z   \n",
       "18                     Conclusão  2020-09-24T18:03:20.000Z   \n",
       "19        Expedição de documento  2020-10-05T20:03:40.000Z   \n",
       "\n",
       "                                     Complemento Nome  \\\n",
       "0                               competência exclusiva   \n",
       "1                              instrução e julgamento   \n",
       "2                                           designada   \n",
       "3                                   Outros documentos   \n",
       "4                                       não-realizada   \n",
       "5                                           instrução   \n",
       "6                                   Outros documentos   \n",
       "7                                        para decisão   \n",
       "8                                      outros motivos   \n",
       "9                                      outros motivos   \n",
       "10                                          designada   \n",
       "11                             instrução e julgamento   \n",
       "12                                          realizada   \n",
       "13                             instrução e julgamento   \n",
       "14  declaração de competência para Ácórdão vincula...   \n",
       "15                                           Certidão   \n",
       "16                                           Certidão   \n",
       "17                                  Outros documentos   \n",
       "18                                    para julgamento   \n",
       "19                                  Outros documentos   \n",
       "\n",
       "                  Complemento Descrição  \n",
       "0   tipo_de_distribuicao_redistribuicao  \n",
       "1                     tipo_de_audiencia  \n",
       "2                 situacao_da_audiencia  \n",
       "3                     tipo_de_documento  \n",
       "4                 situacao_da_audiencia  \n",
       "5                     tipo_de_audiencia  \n",
       "6                     tipo_de_documento  \n",
       "7                     tipo_de_conclusao  \n",
       "8                     motivo_da_remessa  \n",
       "9                     motivo_da_remessa  \n",
       "10                situacao_da_audiencia  \n",
       "11                    tipo_de_audiencia  \n",
       "12                situacao_da_audiencia  \n",
       "13                    tipo_de_audiencia  \n",
       "14                    motivo_da_remessa  \n",
       "15                    tipo_de_documento  \n",
       "16                    tipo_de_documento  \n",
       "17                    tipo_de_documento  \n",
       "18                    tipo_de_conclusao  \n",
       "19                    tipo_de_documento  "
      ]
     },
     "execution_count": 65,
     "metadata": {},
     "output_type": "execute_result"
    }
   ],
   "source": [
    "df_movimentos.head(20)"
   ]
  },
  {
   "cell_type": "code",
   "execution_count": 17,
   "id": "23395ebc",
   "metadata": {},
   "outputs": [
    {
     "name": "stdout",
     "output_type": "stream",
     "text": [
      "['Tribunal Regional Federal da 1ª Região', 'Tribunal Regional Federal da 2ª Região', 'Tribunal Regional Federal da 3ª Região', 'Tribunal Regional Federal da 4ª Região', 'Tribunal Regional Federal da 5ª Região', 'Tribunal Regional Federal da 6ª Região']\n",
      "https://api-publica.datajud.cnj.jus.br/api_publica_trf1/_search\n"
     ]
    }
   ],
   "source": [
    "opcao_justice = 'Justiça Federal'\n",
    "tribunal_list = df_datajud_endpoints[df_datajud_endpoints['JUSTICA'] == opcao_justice]['TRIBUNAL'].unique().tolist() \n",
    "print(tribunal_list)\n",
    "tribunal = 'Tribunal Regional Federal da 1ª Região'\n",
    "url = df_datajud_endpoints[df_datajud_endpoints['TRIBUNAL'] == tribunal]['ENDPOINT'].reset_index(drop=True).values[0]\n",
    "print(url)"
   ]
  },
  {
   "cell_type": "code",
   "execution_count": 36,
   "id": "185088c9",
   "metadata": {},
   "outputs": [],
   "source": [
    "sigla_estados_list = df_estados['SIGLA_ESTADO'].tolist()\n",
    "class_process_list = df_class_process['CLASSE_PROCESSO'].tolist()\n",
    "path_process_list = df_path_process['CAMINHO_PROCESSUAL'].tolist()"
   ]
  },
  {
   "cell_type": "code",
   "execution_count": 37,
   "id": "b2fb4de3",
   "metadata": {},
   "outputs": [
    {
     "name": "stdout",
     "output_type": "stream",
     "text": [
      "['Ação Administrativa', 'Ação Civil', 'Ação Constitucional', 'Ação Empresarial', 'Ação Penal', 'Ação Trabalhista', 'Ação Tributária']\n"
     ]
    }
   ],
   "source": [
    "print(class_process_list)"
   ]
  },
  {
   "cell_type": "code",
   "execution_count": 38,
   "id": "cdf3146b",
   "metadata": {},
   "outputs": [
    {
     "data": {
      "application/vnd.microsoft.datawrangler.viewer.v0+json": {
       "columns": [
        {
         "name": "index",
         "rawType": "int64",
         "type": "integer"
        },
        {
         "name": "ID",
         "rawType": "int64",
         "type": "integer"
        },
        {
         "name": "NAME",
         "rawType": "object",
         "type": "string"
        },
        {
         "name": "EMAIL",
         "rawType": "object",
         "type": "string"
        },
        {
         "name": "LOGIN_PASSWORD",
         "rawType": "object",
         "type": "string"
        },
        {
         "name": "NUM_OAB",
         "rawType": "object",
         "type": "string"
        },
        {
         "name": "USERNAME",
         "rawType": "object",
         "type": "string"
        }
       ],
       "ref": "a0aa39fc-e9ef-41a6-96c6-255cfa11fd05",
       "rows": [
        [
         "0",
         "1",
         "admin",
         "admin@gmail.com",
         "1234",
         "0099887766",
         "admin"
        ],
        [
         "1",
         "2",
         "Teste de cadastro",
         "teste@gmail.com",
         "123",
         "00000000",
         "teste"
        ],
        [
         "2",
         "3",
         "Teste de cadastro 1.2",
         "teste1@gmail.com",
         "123",
         "00000001",
         "teste1"
        ],
        [
         "3",
         "8",
         "teste 02",
         "teste2@gmail.com",
         "teste",
         "000000002",
         "teste2"
        ]
       ],
       "shape": {
        "columns": 6,
        "rows": 4
       }
      },
      "text/html": [
       "<div>\n",
       "<style scoped>\n",
       "    .dataframe tbody tr th:only-of-type {\n",
       "        vertical-align: middle;\n",
       "    }\n",
       "\n",
       "    .dataframe tbody tr th {\n",
       "        vertical-align: top;\n",
       "    }\n",
       "\n",
       "    .dataframe thead th {\n",
       "        text-align: right;\n",
       "    }\n",
       "</style>\n",
       "<table border=\"1\" class=\"dataframe\">\n",
       "  <thead>\n",
       "    <tr style=\"text-align: right;\">\n",
       "      <th></th>\n",
       "      <th>ID</th>\n",
       "      <th>NAME</th>\n",
       "      <th>EMAIL</th>\n",
       "      <th>LOGIN_PASSWORD</th>\n",
       "      <th>NUM_OAB</th>\n",
       "      <th>USERNAME</th>\n",
       "    </tr>\n",
       "  </thead>\n",
       "  <tbody>\n",
       "    <tr>\n",
       "      <th>0</th>\n",
       "      <td>1</td>\n",
       "      <td>admin</td>\n",
       "      <td>admin@gmail.com</td>\n",
       "      <td>1234</td>\n",
       "      <td>0099887766</td>\n",
       "      <td>admin</td>\n",
       "    </tr>\n",
       "    <tr>\n",
       "      <th>1</th>\n",
       "      <td>2</td>\n",
       "      <td>Teste de cadastro</td>\n",
       "      <td>teste@gmail.com</td>\n",
       "      <td>123</td>\n",
       "      <td>00000000</td>\n",
       "      <td>teste</td>\n",
       "    </tr>\n",
       "    <tr>\n",
       "      <th>2</th>\n",
       "      <td>3</td>\n",
       "      <td>Teste de cadastro 1.2</td>\n",
       "      <td>teste1@gmail.com</td>\n",
       "      <td>123</td>\n",
       "      <td>00000001</td>\n",
       "      <td>teste1</td>\n",
       "    </tr>\n",
       "    <tr>\n",
       "      <th>3</th>\n",
       "      <td>8</td>\n",
       "      <td>teste 02</td>\n",
       "      <td>teste2@gmail.com</td>\n",
       "      <td>teste</td>\n",
       "      <td>000000002</td>\n",
       "      <td>teste2</td>\n",
       "    </tr>\n",
       "  </tbody>\n",
       "</table>\n",
       "</div>"
      ],
      "text/plain": [
       "   ID                   NAME             EMAIL LOGIN_PASSWORD     NUM_OAB  \\\n",
       "0   1                  admin   admin@gmail.com           1234  0099887766   \n",
       "1   2      Teste de cadastro   teste@gmail.com            123    00000000   \n",
       "2   3  Teste de cadastro 1.2  teste1@gmail.com            123    00000001   \n",
       "3   8               teste 02  teste2@gmail.com          teste   000000002   \n",
       "\n",
       "  USERNAME  \n",
       "0    admin  \n",
       "1    teste  \n",
       "2   teste1  \n",
       "3   teste2  "
      ]
     },
     "execution_count": 38,
     "metadata": {},
     "output_type": "execute_result"
    }
   ],
   "source": [
    "df_login_user_data.head()"
   ]
  },
  {
   "cell_type": "code",
   "execution_count": 39,
   "id": "3d3a2884",
   "metadata": {},
   "outputs": [
    {
     "data": {
      "application/vnd.microsoft.datawrangler.viewer.v0+json": {
       "columns": [
        {
         "name": "index",
         "rawType": "int64",
         "type": "integer"
        },
        {
         "name": "ID",
         "rawType": "int64",
         "type": "integer"
        },
        {
         "name": "USERNAME",
         "rawType": "object",
         "type": "string"
        },
        {
         "name": "PASSWORD",
         "rawType": "object",
         "type": "string"
        },
        {
         "name": "DATA_CREIACAO",
         "rawType": "datetime64[ns]",
         "type": "datetime"
        }
       ],
       "ref": "a518f442-eb50-40b5-8a59-fbe2c59dd1ab",
       "rows": [
        [
         "0",
         "1",
         "admin",
         "admin",
         "2025-06-18 01:19:27"
        ],
        [
         "1",
         "2",
         "teste1",
         "teste1",
         "2025-06-20 01:38:00"
        ],
        [
         "2",
         "3",
         "teste2",
         "teste2",
         "2025-06-20 01:40:05"
        ]
       ],
       "shape": {
        "columns": 4,
        "rows": 3
       }
      },
      "text/html": [
       "<div>\n",
       "<style scoped>\n",
       "    .dataframe tbody tr th:only-of-type {\n",
       "        vertical-align: middle;\n",
       "    }\n",
       "\n",
       "    .dataframe tbody tr th {\n",
       "        vertical-align: top;\n",
       "    }\n",
       "\n",
       "    .dataframe thead th {\n",
       "        text-align: right;\n",
       "    }\n",
       "</style>\n",
       "<table border=\"1\" class=\"dataframe\">\n",
       "  <thead>\n",
       "    <tr style=\"text-align: right;\">\n",
       "      <th></th>\n",
       "      <th>ID</th>\n",
       "      <th>USERNAME</th>\n",
       "      <th>PASSWORD</th>\n",
       "      <th>DATA_CREIACAO</th>\n",
       "    </tr>\n",
       "  </thead>\n",
       "  <tbody>\n",
       "    <tr>\n",
       "      <th>0</th>\n",
       "      <td>1</td>\n",
       "      <td>admin</td>\n",
       "      <td>admin</td>\n",
       "      <td>2025-06-18 01:19:27</td>\n",
       "    </tr>\n",
       "    <tr>\n",
       "      <th>1</th>\n",
       "      <td>2</td>\n",
       "      <td>teste1</td>\n",
       "      <td>teste1</td>\n",
       "      <td>2025-06-20 01:38:00</td>\n",
       "    </tr>\n",
       "    <tr>\n",
       "      <th>2</th>\n",
       "      <td>3</td>\n",
       "      <td>teste2</td>\n",
       "      <td>teste2</td>\n",
       "      <td>2025-06-20 01:40:05</td>\n",
       "    </tr>\n",
       "  </tbody>\n",
       "</table>\n",
       "</div>"
      ],
      "text/plain": [
       "   ID USERNAME PASSWORD       DATA_CREIACAO\n",
       "0   1    admin    admin 2025-06-18 01:19:27\n",
       "1   2   teste1   teste1 2025-06-20 01:38:00\n",
       "2   3   teste2   teste2 2025-06-20 01:40:05"
      ]
     },
     "execution_count": 39,
     "metadata": {},
     "output_type": "execute_result"
    }
   ],
   "source": [
    "df_user_bd.head()"
   ]
  },
  {
   "cell_type": "code",
   "execution_count": 41,
   "id": "7cf4ad9e",
   "metadata": {},
   "outputs": [
    {
     "data": {
      "application/vnd.microsoft.datawrangler.viewer.v0+json": {
       "columns": [
        {
         "name": "index",
         "rawType": "int64",
         "type": "integer"
        },
        {
         "name": "ID",
         "rawType": "int64",
         "type": "integer"
        },
        {
         "name": "NAME",
         "rawType": "object",
         "type": "string"
        },
        {
         "name": "EMAIL",
         "rawType": "object",
         "type": "string"
        },
        {
         "name": "LOGIN_PASSWORD",
         "rawType": "object",
         "type": "string"
        },
        {
         "name": "NUM_OAB",
         "rawType": "object",
         "type": "string"
        },
        {
         "name": "USERNAME",
         "rawType": "object",
         "type": "string"
        }
       ],
       "ref": "0e60f3c9-cc43-4c32-8426-861dd4c2cee7",
       "rows": [
        [
         "0",
         "1",
         "admin",
         "admin@gmail.com",
         "1234",
         "0099887766",
         "admin"
        ]
       ],
       "shape": {
        "columns": 6,
        "rows": 1
       }
      },
      "text/html": [
       "<div>\n",
       "<style scoped>\n",
       "    .dataframe tbody tr th:only-of-type {\n",
       "        vertical-align: middle;\n",
       "    }\n",
       "\n",
       "    .dataframe tbody tr th {\n",
       "        vertical-align: top;\n",
       "    }\n",
       "\n",
       "    .dataframe thead th {\n",
       "        text-align: right;\n",
       "    }\n",
       "</style>\n",
       "<table border=\"1\" class=\"dataframe\">\n",
       "  <thead>\n",
       "    <tr style=\"text-align: right;\">\n",
       "      <th></th>\n",
       "      <th>ID</th>\n",
       "      <th>NAME</th>\n",
       "      <th>EMAIL</th>\n",
       "      <th>LOGIN_PASSWORD</th>\n",
       "      <th>NUM_OAB</th>\n",
       "      <th>USERNAME</th>\n",
       "    </tr>\n",
       "  </thead>\n",
       "  <tbody>\n",
       "    <tr>\n",
       "      <th>0</th>\n",
       "      <td>1</td>\n",
       "      <td>admin</td>\n",
       "      <td>admin@gmail.com</td>\n",
       "      <td>1234</td>\n",
       "      <td>0099887766</td>\n",
       "      <td>admin</td>\n",
       "    </tr>\n",
       "  </tbody>\n",
       "</table>\n",
       "</div>"
      ],
      "text/plain": [
       "   ID   NAME            EMAIL LOGIN_PASSWORD     NUM_OAB USERNAME\n",
       "0   1  admin  admin@gmail.com           1234  0099887766    admin"
      ]
     },
     "execution_count": 41,
     "metadata": {},
     "output_type": "execute_result"
    }
   ],
   "source": [
    "username = 'admin@gmail.com'\n",
    "line_user = df_login_user_data[df_login_user_data['EMAIL'] == username].reset_index(drop=True)\n",
    "line_user.head()"
   ]
  },
  {
   "cell_type": "code",
   "execution_count": null,
   "id": "3c7086d4",
   "metadata": {},
   "outputs": [
    {
     "name": "stdout",
     "output_type": "stream",
     "text": [
      "Usuário encontrado no banco de dados.\n",
      "Username: admin, Password: admin\n"
     ]
    }
   ],
   "source": [
    "#Receber o email e senha do usuário através da tela \n",
    "password = '1234'\n",
    "\n",
    "#Entrar com o usuário do banco admin para verificar se o usuário solicitando login existe no banco de dados para pegar as credenciais de banco para se conectar\n",
    "conn, cursor = database_conection()\n",
    "df_login_user_data, df_user_bd = make_db_highq_login(cursor)\n",
    "if username in df_login_user_data['EMAIL'].to_list() and password in df_login_user_data['LOGIN_PASSWORD'].to_list():\n",
    "    print(\"Usuário encontrado no banco de dados.\")\n",
    "    user_bd_login = df_login_user_data[df_login_user_data['EMAIL'] == username]['USERNAME'].values[0]\n",
    "    password_bd_login = df_user_bd[df_user_bd['USERNAME'] == user_bd_login]['PASSWORD'].values[0]\n",
    "    print(f\"Username: {user_bd_login}, Password: {password_bd_login}\")\n",
    "else: print(\"Usuário ou senha inválidos.\")\n",
    "    "
   ]
  },
  {
   "cell_type": "code",
   "execution_count": null,
   "id": "d88a789d",
   "metadata": {},
   "outputs": [],
   "source": []
  }
 ],
 "metadata": {
  "kernelspec": {
   "display_name": "Python 3",
   "language": "python",
   "name": "python3"
  },
  "language_info": {
   "codemirror_mode": {
    "name": "ipython",
    "version": 3
   },
   "file_extension": ".py",
   "mimetype": "text/x-python",
   "name": "python",
   "nbconvert_exporter": "python",
   "pygments_lexer": "ipython3",
   "version": "3.12.2"
  }
 },
 "nbformat": 4,
 "nbformat_minor": 5
}
