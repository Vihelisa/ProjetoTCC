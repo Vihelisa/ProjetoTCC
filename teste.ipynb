{
 "cells": [
  {
   "cell_type": "code",
   "execution_count": 13,
   "id": "49ca4723",
   "metadata": {},
   "outputs": [],
   "source": [
    "import cx_Oracle\n",
    "import os\n",
    "import json\n",
    "import pandas as pd"
   ]
  },
  {
   "cell_type": "code",
   "execution_count": 14,
   "id": "1dae20a6",
   "metadata": {},
   "outputs": [],
   "source": [
    "user_bd = \"admin\"\n",
    "password_bd = \"admin\"\n",
    "tns_bd = \"DKR_NAC_213\""
   ]
  },
  {
   "cell_type": "code",
   "execution_count": 15,
   "id": "917ff230",
   "metadata": {},
   "outputs": [],
   "source": [
    "def database_conection(user_bd='admin', password_bd='admin', tns_bd='DKR_NAC_213'):\n",
    "    try:\n",
    "        conn = cx_Oracle.connect(user=str(user_bd), password=str(password_bd), dsn=str(tns_bd))\n",
    "        cursor = conn.cursor()\n",
    "        return conn, cursor\n",
    "    except cx_Oracle.DatabaseError as e:\n",
    "        return None, None\n"
   ]
  },
  {
   "cell_type": "code",
   "execution_count": 16,
   "id": "e377c6fd",
   "metadata": {},
   "outputs": [],
   "source": [
    "def get_data(query, cursor):\n",
    "    '''\n",
    "        Esta função faz requisições no bano de dados, criando dataframe com as informações obtidas\n",
    "    '''\n",
    "    try:\n",
    "        cursor.execute(query)\n",
    "        results = cursor.fetchall()\n",
    "        columns = [desc[0] for desc in cursor.description]\n",
    "        \n",
    "        df = pd.DataFrame(results, columns=columns)\n",
    "        return df\n",
    "\n",
    "    except cx_Oracle.DatabaseError as e:\n",
    "        return None"
   ]
  },
  {
   "cell_type": "code",
   "execution_count": 17,
   "id": "ce031896",
   "metadata": {},
   "outputs": [],
   "source": [
    "def make_db_highq_login(cursor):\n",
    "\n",
    "    #script_dir = os.path.dirname(__file__)\n",
    "    file_path = os.path.join('config/query.json')\n",
    "\n",
    "    with open(file_path) as file:\n",
    "        querys = json.load(file)\n",
    "\n",
    "    \n",
    "    df_login_user_data = get_data(querys['loginUserData'], cursor)\n",
    "    df_user_bd = get_data(querys['userBD'], cursor)\n",
    "    return df_login_user_data, df_user_bd"
   ]
  },
  {
   "cell_type": "code",
   "execution_count": 18,
   "id": "7033e992",
   "metadata": {},
   "outputs": [],
   "source": [
    "def make_db_highq_users_bd(cursor):\n",
    "\n",
    "    #script_dir = os.path.dirname(__file__)\n",
    "    file_path = os.path.join('config/query.json')\n",
    "\n",
    "    with open(file_path) as file:\n",
    "        querys = json.load(file)\n",
    "\n",
    "    \n",
    "    df_user_bd = get_data(querys['userBD'], cursor)\n",
    "    return df_user_bd"
   ]
  },
  {
   "cell_type": "code",
   "execution_count": 19,
   "id": "bfc1fe0c",
   "metadata": {},
   "outputs": [],
   "source": [
    "def make_db_register(cursor):\n",
    "\n",
    "    #script_dir = os.path.dirname(__file__)\n",
    "    file_path = os.path.join('config/query.json')\n",
    "\n",
    "    with open(file_path) as file:\n",
    "        querys = json.load(file)\n",
    "    \n",
    "    df_estados = get_data(querys['estadosBR'], cursor)\n",
    "    df_class_process = get_data(querys['classProcess'], cursor)\n",
    "    df_path_process = get_data(querys['pathProcess'], cursor)\n",
    "    return df_estados, df_class_process, df_path_process\n"
   ]
  },
  {
   "cell_type": "code",
   "execution_count": 20,
   "id": "aa61087c",
   "metadata": {},
   "outputs": [],
   "source": [
    "conn, cursor = database_conection(user_bd, password_bd, tns_bd)\n",
    "df_login_user_data, df_user_bd = make_db_highq_login(cursor)\n",
    "df_estados, df_class_process, df_path_process = make_db_register(cursor)\n"
   ]
  },
  {
   "cell_type": "code",
   "execution_count": 21,
   "id": "23395ebc",
   "metadata": {},
   "outputs": [
    {
     "data": {
      "application/vnd.microsoft.datawrangler.viewer.v0+json": {
       "columns": [
        {
         "name": "index",
         "rawType": "int64",
         "type": "integer"
        },
        {
         "name": "CAMINHO_PROCESSUAL",
         "rawType": "object",
         "type": "string"
        }
       ],
       "ref": "eb2b9802-8315-4c1d-830a-0cb986758769",
       "rows": [
        [
         "0",
         "Apelação"
        ],
        [
         "1",
         "Conciliação"
        ],
        [
         "2",
         "Contestação"
        ],
        [
         "3",
         "Intimação"
        ],
        [
         "4",
         "Notificação"
        ]
       ],
       "shape": {
        "columns": 1,
        "rows": 5
       }
      },
      "text/html": [
       "<div>\n",
       "<style scoped>\n",
       "    .dataframe tbody tr th:only-of-type {\n",
       "        vertical-align: middle;\n",
       "    }\n",
       "\n",
       "    .dataframe tbody tr th {\n",
       "        vertical-align: top;\n",
       "    }\n",
       "\n",
       "    .dataframe thead th {\n",
       "        text-align: right;\n",
       "    }\n",
       "</style>\n",
       "<table border=\"1\" class=\"dataframe\">\n",
       "  <thead>\n",
       "    <tr style=\"text-align: right;\">\n",
       "      <th></th>\n",
       "      <th>CAMINHO_PROCESSUAL</th>\n",
       "    </tr>\n",
       "  </thead>\n",
       "  <tbody>\n",
       "    <tr>\n",
       "      <th>0</th>\n",
       "      <td>Apelação</td>\n",
       "    </tr>\n",
       "    <tr>\n",
       "      <th>1</th>\n",
       "      <td>Conciliação</td>\n",
       "    </tr>\n",
       "    <tr>\n",
       "      <th>2</th>\n",
       "      <td>Contestação</td>\n",
       "    </tr>\n",
       "    <tr>\n",
       "      <th>3</th>\n",
       "      <td>Intimação</td>\n",
       "    </tr>\n",
       "    <tr>\n",
       "      <th>4</th>\n",
       "      <td>Notificação</td>\n",
       "    </tr>\n",
       "  </tbody>\n",
       "</table>\n",
       "</div>"
      ],
      "text/plain": [
       "  CAMINHO_PROCESSUAL\n",
       "0           Apelação\n",
       "1        Conciliação\n",
       "2        Contestação\n",
       "3          Intimação\n",
       "4        Notificação"
      ]
     },
     "execution_count": 21,
     "metadata": {},
     "output_type": "execute_result"
    }
   ],
   "source": [
    "df_path_process.head()"
   ]
  },
  {
   "cell_type": "code",
   "execution_count": 23,
   "id": "185088c9",
   "metadata": {},
   "outputs": [],
   "source": [
    "sigla_estados_list = df_estados['SIGLA_ESTADO'].tolist()\n",
    "class_process_list = df_class_process['CLASSE_PROCESSO'].tolist()\n",
    "path_process_list = df_path_process['CAMINHO_PROCESSUAL'].tolist()"
   ]
  },
  {
   "cell_type": "code",
   "execution_count": 26,
   "id": "b2fb4de3",
   "metadata": {},
   "outputs": [
    {
     "name": "stdout",
     "output_type": "stream",
     "text": [
      "['Ação Administrativa', 'Ação Civil', 'Ação Constitucional', 'Ação Empresarial', 'Ação Penal', 'Ação Trabalhista', 'Ação Tributária']\n"
     ]
    }
   ],
   "source": [
    "print(class_process_list)"
   ]
  },
  {
   "cell_type": "code",
   "execution_count": 24,
   "id": "cdf3146b",
   "metadata": {},
   "outputs": [
    {
     "data": {
      "application/vnd.microsoft.datawrangler.viewer.v0+json": {
       "columns": [
        {
         "name": "index",
         "rawType": "int64",
         "type": "integer"
        },
        {
         "name": "ID",
         "rawType": "int64",
         "type": "integer"
        },
        {
         "name": "NAME",
         "rawType": "object",
         "type": "string"
        },
        {
         "name": "EMAIL",
         "rawType": "object",
         "type": "string"
        },
        {
         "name": "LOGIN_PASSWORD",
         "rawType": "object",
         "type": "string"
        },
        {
         "name": "NUM_OAB",
         "rawType": "object",
         "type": "string"
        },
        {
         "name": "USERNAME",
         "rawType": "object",
         "type": "string"
        }
       ],
       "ref": "59dfb244-e6d2-41c4-9f8b-c678e836d589",
       "rows": [
        [
         "0",
         "1",
         "admin",
         "admin@gmail.com",
         "1234",
         "0099887766",
         "admin"
        ],
        [
         "1",
         "2",
         "Teste de cadastro",
         "teste@gmail.com",
         "123",
         "00000000",
         "teste"
        ],
        [
         "2",
         "3",
         "Teste de cadastro 1.2",
         "teste1@gmail.com",
         "123",
         "00000001",
         "teste1"
        ],
        [
         "3",
         "8",
         "teste 02",
         "teste2@gmail.com",
         "teste",
         "000000002",
         "teste2"
        ]
       ],
       "shape": {
        "columns": 6,
        "rows": 4
       }
      },
      "text/html": [
       "<div>\n",
       "<style scoped>\n",
       "    .dataframe tbody tr th:only-of-type {\n",
       "        vertical-align: middle;\n",
       "    }\n",
       "\n",
       "    .dataframe tbody tr th {\n",
       "        vertical-align: top;\n",
       "    }\n",
       "\n",
       "    .dataframe thead th {\n",
       "        text-align: right;\n",
       "    }\n",
       "</style>\n",
       "<table border=\"1\" class=\"dataframe\">\n",
       "  <thead>\n",
       "    <tr style=\"text-align: right;\">\n",
       "      <th></th>\n",
       "      <th>ID</th>\n",
       "      <th>NAME</th>\n",
       "      <th>EMAIL</th>\n",
       "      <th>LOGIN_PASSWORD</th>\n",
       "      <th>NUM_OAB</th>\n",
       "      <th>USERNAME</th>\n",
       "    </tr>\n",
       "  </thead>\n",
       "  <tbody>\n",
       "    <tr>\n",
       "      <th>0</th>\n",
       "      <td>1</td>\n",
       "      <td>admin</td>\n",
       "      <td>admin@gmail.com</td>\n",
       "      <td>1234</td>\n",
       "      <td>0099887766</td>\n",
       "      <td>admin</td>\n",
       "    </tr>\n",
       "    <tr>\n",
       "      <th>1</th>\n",
       "      <td>2</td>\n",
       "      <td>Teste de cadastro</td>\n",
       "      <td>teste@gmail.com</td>\n",
       "      <td>123</td>\n",
       "      <td>00000000</td>\n",
       "      <td>teste</td>\n",
       "    </tr>\n",
       "    <tr>\n",
       "      <th>2</th>\n",
       "      <td>3</td>\n",
       "      <td>Teste de cadastro 1.2</td>\n",
       "      <td>teste1@gmail.com</td>\n",
       "      <td>123</td>\n",
       "      <td>00000001</td>\n",
       "      <td>teste1</td>\n",
       "    </tr>\n",
       "    <tr>\n",
       "      <th>3</th>\n",
       "      <td>8</td>\n",
       "      <td>teste 02</td>\n",
       "      <td>teste2@gmail.com</td>\n",
       "      <td>teste</td>\n",
       "      <td>000000002</td>\n",
       "      <td>teste2</td>\n",
       "    </tr>\n",
       "  </tbody>\n",
       "</table>\n",
       "</div>"
      ],
      "text/plain": [
       "   ID                   NAME             EMAIL LOGIN_PASSWORD     NUM_OAB  \\\n",
       "0   1                  admin   admin@gmail.com           1234  0099887766   \n",
       "1   2      Teste de cadastro   teste@gmail.com            123    00000000   \n",
       "2   3  Teste de cadastro 1.2  teste1@gmail.com            123    00000001   \n",
       "3   8               teste 02  teste2@gmail.com          teste   000000002   \n",
       "\n",
       "  USERNAME  \n",
       "0    admin  \n",
       "1    teste  \n",
       "2   teste1  \n",
       "3   teste2  "
      ]
     },
     "execution_count": 24,
     "metadata": {},
     "output_type": "execute_result"
    }
   ],
   "source": [
    "df_login_user_data.head()"
   ]
  },
  {
   "cell_type": "code",
   "execution_count": 25,
   "id": "3d3a2884",
   "metadata": {},
   "outputs": [
    {
     "data": {
      "application/vnd.microsoft.datawrangler.viewer.v0+json": {
       "columns": [
        {
         "name": "index",
         "rawType": "int64",
         "type": "integer"
        },
        {
         "name": "ID",
         "rawType": "int64",
         "type": "integer"
        },
        {
         "name": "USERNAME",
         "rawType": "object",
         "type": "string"
        },
        {
         "name": "PASSWORD",
         "rawType": "object",
         "type": "string"
        },
        {
         "name": "DATA_CREIACAO",
         "rawType": "datetime64[ns]",
         "type": "datetime"
        }
       ],
       "ref": "cc283060-ca6d-4da2-95a5-e314c39c123a",
       "rows": [
        [
         "0",
         "1",
         "admin",
         "admin",
         "2025-06-18 01:19:27"
        ],
        [
         "1",
         "2",
         "teste1",
         "teste1",
         "2025-06-20 01:38:00"
        ],
        [
         "2",
         "3",
         "teste2",
         "teste2",
         "2025-06-20 01:40:05"
        ]
       ],
       "shape": {
        "columns": 4,
        "rows": 3
       }
      },
      "text/html": [
       "<div>\n",
       "<style scoped>\n",
       "    .dataframe tbody tr th:only-of-type {\n",
       "        vertical-align: middle;\n",
       "    }\n",
       "\n",
       "    .dataframe tbody tr th {\n",
       "        vertical-align: top;\n",
       "    }\n",
       "\n",
       "    .dataframe thead th {\n",
       "        text-align: right;\n",
       "    }\n",
       "</style>\n",
       "<table border=\"1\" class=\"dataframe\">\n",
       "  <thead>\n",
       "    <tr style=\"text-align: right;\">\n",
       "      <th></th>\n",
       "      <th>ID</th>\n",
       "      <th>USERNAME</th>\n",
       "      <th>PASSWORD</th>\n",
       "      <th>DATA_CREIACAO</th>\n",
       "    </tr>\n",
       "  </thead>\n",
       "  <tbody>\n",
       "    <tr>\n",
       "      <th>0</th>\n",
       "      <td>1</td>\n",
       "      <td>admin</td>\n",
       "      <td>admin</td>\n",
       "      <td>2025-06-18 01:19:27</td>\n",
       "    </tr>\n",
       "    <tr>\n",
       "      <th>1</th>\n",
       "      <td>2</td>\n",
       "      <td>teste1</td>\n",
       "      <td>teste1</td>\n",
       "      <td>2025-06-20 01:38:00</td>\n",
       "    </tr>\n",
       "    <tr>\n",
       "      <th>2</th>\n",
       "      <td>3</td>\n",
       "      <td>teste2</td>\n",
       "      <td>teste2</td>\n",
       "      <td>2025-06-20 01:40:05</td>\n",
       "    </tr>\n",
       "  </tbody>\n",
       "</table>\n",
       "</div>"
      ],
      "text/plain": [
       "   ID USERNAME PASSWORD       DATA_CREIACAO\n",
       "0   1    admin    admin 2025-06-18 01:19:27\n",
       "1   2   teste1   teste1 2025-06-20 01:38:00\n",
       "2   3   teste2   teste2 2025-06-20 01:40:05"
      ]
     },
     "execution_count": 25,
     "metadata": {},
     "output_type": "execute_result"
    }
   ],
   "source": [
    "df_user_bd.head()"
   ]
  },
  {
   "cell_type": "code",
   "execution_count": null,
   "id": "3c7086d4",
   "metadata": {},
   "outputs": [
    {
     "name": "stdout",
     "output_type": "stream",
     "text": [
      "Usuário encontrado no banco de dados.\n",
      "Username: admin, Password: admin\n"
     ]
    }
   ],
   "source": [
    "#Receber o email e senha do usuário através da tela \n",
    "username = 'admin@gmail.com'\n",
    "password = '1234'\n",
    "\n",
    "#Entrar com o usuário do banco admin para verificar se o usuário solicitando login existe no banco de dados para pegar as credenciais de banco para se conectar\n",
    "conn, cursor = database_conection()\n",
    "df_login_user_data, df_user_bd = make_db_highq_login(cursor)\n",
    "if username in df_login_user_data['EMAIL'].to_list() and password in df_login_user_data['LOGIN_PASSWORD'].to_list():\n",
    "    print(\"Usuário encontrado no banco de dados.\")\n",
    "    user_bd_login = df_login_user_data[df_login_user_data['EMAIL'] == username]['USERNAME'].values[0]\n",
    "    password_bd_login = df_user_bd[df_user_bd['USERNAME'] == user_bd_login]['PASSWORD'].values[0]\n",
    "    print(f\"Username: {user_bd_login}, Password: {password_bd_login}\")\n",
    "else: print(\"Usuário ou senha inválidos.\")\n",
    "    "
   ]
  },
  {
   "cell_type": "code",
   "execution_count": null,
   "id": "d88a789d",
   "metadata": {},
   "outputs": [],
   "source": []
  }
 ],
 "metadata": {
  "kernelspec": {
   "display_name": "Python 3",
   "language": "python",
   "name": "python3"
  },
  "language_info": {
   "codemirror_mode": {
    "name": "ipython",
    "version": 3
   },
   "file_extension": ".py",
   "mimetype": "text/x-python",
   "name": "python",
   "nbconvert_exporter": "python",
   "pygments_lexer": "ipython3",
   "version": "3.12.2"
  }
 },
 "nbformat": 4,
 "nbformat_minor": 5
}
